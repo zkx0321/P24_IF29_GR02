{
 "cells": [
  {
   "cell_type": "markdown",
   "metadata": {},
   "source": [
    "1. `agressivite:`\n",
    "- Heures totales calculées : le nombre total d'heures pendant lesquelles un utilisateur a été actif est calculé sur la base des horodatages du premier et du dernier tweets.\n",
    "\n",
    "- Fréquence des tweets (ftweets) : le nombre de tweets divisé par le nombre total d'heures d'activité.\n",
    "\n",
    "- Fréquence des suivis (ffriends) : l'évolution du nombre d'amis divisée par le nombre total d'heures d'activité, ce qui reflète approximativement la fréquence à laquelle l'utilisateur suit d'autres personnes.\n",
    "\n",
    "- Calcul du score d'agressivité : la somme de la fréquence des tweets et des suivis (nouveaux fans) par heure, divisée par le nombre maximum d'actions possibles par heure (350)."
   ]
  },
  {
   "cell_type": "code",
   "execution_count": 5,
   "metadata": {},
   "outputs": [],
   "source": [
    "import json\n",
    "from datetime import datetime\n",
    "\n",
    "def calculate_aggressiveness(data, f_max = 350):\n",
    "    user_scores = []\n",
    "\n",
    "    for user_data in data:\n",
    "        user_id = user_data['_id']\n",
    "        tweets = user_data['tweets']\n",
    "\n",
    "        if not tweets:\n",
    "            user_scores.append({\n",
    "                'user_id': user_id,\n",
    "                'aggressiveness_score': 0\n",
    "            })\n",
    "            continue\n",
    "\n",
    "        start_time = min(int(tweet['timestamp_ms']) for tweet in tweets)\n",
    "        end_time = max(int(tweet['timestamp_ms']) for tweet in tweets)\n",
    "        total_hours = (end_time - start_time) / (1000 * 60 * 60) if (end_time - start_time) > 0 else 1\n",
    "\n",
    "        f_tweets = len(tweets) / total_hours\n",
    "\n",
    "        initial_friends = tweets[0]['user']['friends_count']\n",
    "        final_friends = tweets[-1]['user']['friends_count']\n",
    "        f_friends = (final_friends - initial_friends) / total_hours\n",
    "        \n",
    "        aggressiveness_score = (f_tweets + f_friends) / f_max\n",
    "        \n",
    "        user_scores.append({\n",
    "            'user_id': user_id,\n",
    "            'aggressiveness_score': aggressiveness_score\n",
    "        })\n",
    "\n",
    "    return user_scores"
   ]
  },
  {
   "cell_type": "markdown",
   "metadata": {},
   "source": [
    "2. \n",
    "\n",
    "-  `avg_retweet`(Retweets moyens) : calcule la moyenne du nombre de retweets pour tous les tweets d'un utilisateur.\n",
    "\n",
    "-  `avg_url`(Nombre moyen d'URL) : calcule la moyenne du nombre d'URL inclus dans tous les tweets d'un utilisateur.\n",
    "\n",
    "-  `avg_hashtag`(Nombre moyen de hashtags) : calcule la moyenne du nombre de hashtags inclus dans tous les tweets d'un utilisateur."
   ]
  },
  {
   "cell_type": "code",
   "execution_count": 6,
   "metadata": {},
   "outputs": [],
   "source": [
    "import json\n",
    "\n",
    "def calculate_averages(data):\n",
    "    user_averages = []\n",
    "\n",
    "    for user_data in data:\n",
    "        user_id = user_data['_id']\n",
    "        tweets = user_data['tweets']\n",
    "\n",
    "        total_retweets = 0\n",
    "        total_urls = 0\n",
    "        total_hashtags = 0\n",
    "        tweet_count = len(tweets)\n",
    "\n",
    "        for tweet in tweets:\n",
    "            total_retweets += tweet['retweet_count']\n",
    "            total_urls += len(tweet['entities']['urls'])\n",
    "            total_hashtags += len(tweet['entities']['hashtags'])\n",
    "\n",
    "        if tweet_count > 0:\n",
    "            avg_retweet = total_retweets / tweet_count\n",
    "            avg_url = total_urls / tweet_count\n",
    "            avg_hashtag = total_hashtags / tweet_count\n",
    "        else:\n",
    "            avg_retweet, avg_url, avg_hashtag = 0, 0, 0\n",
    "        \n",
    "        user_averages.append({\n",
    "            'user_id': user_id,\n",
    "            'avg_retweet': avg_retweet,\n",
    "            'avg_url': avg_url,\n",
    "            'avg_hashtag': avg_hashtag\n",
    "        })\n",
    "\n",
    "    return user_averages"
   ]
  },
  {
   "cell_type": "markdown",
   "metadata": {},
   "source": [
    "3. `rationFollowersFriends`: Le \"ratio followers/friends\" d'un utilisateur."
   ]
  },
  {
   "cell_type": "code",
   "execution_count": 13,
   "metadata": {},
   "outputs": [],
   "source": [
    "def calc_ration_followers_friends(data):\n",
    "    user_ids = []\n",
    "    user_ratios = []\n",
    "\n",
    "    for user_tweets in data:\n",
    "        user_id = user_tweets['_id']\n",
    "        friends_count = user_tweets['tweets'][0]['user']['friends_count']\n",
    "        followers_count = user_tweets['tweets'][0]['user']['followers_count']\n",
    "        user_ids.append(user_id)\n",
    "        ratio = followers_count / friends_count if friends_count != 0 else 0  # 避免除以零错误\n",
    "\n",
    "        user_ratios.append({\n",
    "            'user_id': user_id,\n",
    "            'ratio': ratio\n",
    "        })\n",
    "    return user_ratios"
   ]
  },
  {
   "cell_type": "markdown",
   "metadata": {},
   "source": [
    "4. `mediumLength`：Longueur moyenne des tweets des utilisateurs"
   ]
  },
  {
   "cell_type": "code",
   "execution_count": 17,
   "metadata": {},
   "outputs": [],
   "source": [
    "def calc_avg_tweet_length(data):\n",
    "    user_ids = []\n",
    "    avg_tweet_lengths = []\n",
    "\n",
    "    for user_tweets in data:\n",
    "        user_id = user_tweets['_id']\n",
    "        total_tweet_length = 0\n",
    "        num_tweets = len(user_tweets['tweets'])\n",
    "        for tweet in user_tweets['tweets']:\n",
    "            total_tweet_length += len(tweet['text'])\n",
    "        avg_tweet_length = total_tweet_length / num_tweets if num_tweets > 0 else 0\n",
    "        user_ids.append(user_id)\n",
    "        avg_tweet_lengths.append({\n",
    "            'user_id': user_id,\n",
    "            'avg_tweet_length': avg_tweet_length\n",
    "        })\n",
    "\n",
    "    return avg_tweet_lengths"
   ]
  },
  {
   "cell_type": "markdown",
   "metadata": {},
   "source": [
    "5. `rateOfRepliedTweets`:Pourcentage de tweets ayant reçu une réponse dans une liste de tweets donnée"
   ]
  },
  {
   "cell_type": "code",
   "execution_count": 24,
   "metadata": {},
   "outputs": [],
   "source": [
    "def calc_rate_replied_tweets(tweets):\n",
    "    total_replied = 0\n",
    "    totalTweets = len(tweets)\n",
    "    for tweet in tweets:\n",
    "        if tweet['reply_count']:\n",
    "            total_replied += 1\n",
    "    res = total_replied * 100 / totalTweets\n",
    "    return res\n",
    "\n",
    "def calc_rate_replied(data):\n",
    "    replied_rate = []\n",
    "    for user in data:\n",
    "        tweets = user['tweets']\n",
    "        res = calc_rate_replied_tweets(tweets)\n",
    "        replied_rate.append({\n",
    "            'user_id': user['_id'],\n",
    "            'replied_rate': res\n",
    "        })\n",
    "    return replied_rate"
   ]
  },
  {
   "cell_type": "markdown",
   "metadata": {},
   "source": [
    "6. `tweet_per_day`:Nombre moyen de tweets par jour"
   ]
  },
  {
   "cell_type": "code",
   "execution_count": 27,
   "metadata": {},
   "outputs": [],
   "source": [
    "import pandas as pd\n",
    "import numpy as np\n",
    "def get_dates(t):\n",
    "    date = t['created_date']\n",
    "    date = datetime.strptime(date, '%Y-%m-%d %H:%M:%S')\n",
    "    return date\n",
    "\n",
    "def calc_tweet_frequency(tweets):\n",
    "    dates = [get_dates(t) for t in tweets]\n",
    "    serie_dates = pd.Series(dates)\n",
    "    frequency = np.mean(serie_dates.dt.date.value_counts())\n",
    "    return frequency\n",
    "\n",
    "def calc_tweet_frequency_per_day(data):\n",
    "    frequency_list = []\n",
    "    for user in data:\n",
    "        tweets = user['tweets']\n",
    "        frequency = calc_tweet_frequency(tweets)\n",
    "        frequency_list.append({ 'user_id': user['_id'], 'frequency': frequency })\n",
    "    return frequency_list"
   ]
  },
  {
   "cell_type": "markdown",
   "metadata": {},
   "source": [
    "7. `verified`:Vérifier si un utilisateur ou un utilisateur d'une liste de tweet est authentifié<br>\n",
    "8. `visibility`： est un score qui mesure la visibilité des utilisateurs de médias sociaux, calculé en comptant la fréquence d'utilisation du symbole de mention (@) et du hashtag (#) dans les tweets des utilisateurs, normalisé par l'addition de leurs coûts moyens."
   ]
  },
  {
   "cell_type": "code",
   "execution_count": 31,
   "metadata": {},
   "outputs": [],
   "source": [
    "# 用户验证和可见度列表\n",
    "verific_et_visibil_list = []\n",
    "\n",
    "# 检查是否验证 返回True 或 False\n",
    "def verified_check(user_infor):\n",
    "    return user_infor['verified']\n",
    "\n",
    "def visibility_compute(user_text):\n",
    "    costMention = 11.4  # C(@)\n",
    "    costHashtag = 11.6  # C(#)\n",
    "    nbMention = 0\n",
    "    nbHashtag = 0\n",
    "    for text in user_text:\n",
    "\n",
    "        nbMention += text.count(\"@\")\n",
    "        nbHashtag += text.count(\"#\")\n",
    "\n",
    "    avgMention = nbMention/len(user_text) * costMention\n",
    "    avgHashtag = nbHashtag/len(user_text) * costHashtag\n",
    "\n",
    "    visibility = ( avgMention + avgHashtag ) / 140\n",
    "    return visibility\n",
    "\n",
    "def visibility_et_verified_check(data):\n",
    "    # 处理JSON数据中的每个用户\n",
    "    for user_data in data:\n",
    "        user_tweets = user_data['tweets']\n",
    "        # 根据用户信息， 检查是否验证\n",
    "        user_infor = user_tweets[0]['user']\n",
    "        verification = verified_check(user_infor)\n",
    "        # 根据用户推文， 计算可见度\n",
    "        user_text = user_tweets[0]['text']\n",
    "        visibility = visibility_compute(user_text)\n",
    "\n",
    "        # 将结果追加到对应数组\n",
    "        verific_et_visibil_list.append({\n",
    "            'user_id': user_data['_id'],\n",
    "            'verification': verification,\n",
    "            'visibility': visibility\n",
    "        })\n",
    "\n",
    "    return verific_et_visibil_list"
   ]
  },
  {
   "cell_type": "markdown",
   "metadata": {},
   "source": [
    "9. `accountAge`(days): Âge des comptes d'utilisateurs<br>\n",
    "10. `avg_fav`:Calculer le taux de recouvrement moyen"
   ]
  },
  {
   "cell_type": "code",
   "execution_count": 33,
   "metadata": {},
   "outputs": [],
   "source": [
    "# 定义函数计算账户年龄（天数）\n",
    "def get_account_age(creation_date):\n",
    "    creation_date_formatted = datetime.strptime(creation_date, '%a %b %d %H:%M:%S +0000 %Y')\n",
    "    today_date = datetime.now()\n",
    "    account_age = (today_date - creation_date_formatted).days\n",
    "    return account_age\n",
    "\n",
    "\n",
    "# 定义函数计算平均收藏数比\n",
    "def get_avg_fav(favorites_count, statuses_count):\n",
    "    if statuses_count > 0:\n",
    "        return favorites_count / statuses_count\n",
    "    else:\n",
    "        return 0\n",
    "\n",
    "def account_age_fav_ratio(data):\n",
    "    account_ages_favs = []\n",
    "\n",
    "    for user_data in data:\n",
    "        user_tweets = user_data['tweets']\n",
    "        creation_date = user_tweets[0]['user']['created_at']\n",
    "        favorites_count = user_tweets[0]['user']['favourites_count']\n",
    "        statuses_count = user_tweets[0]['user']['statuses_count']\n",
    "\n",
    "        # 计算账户年龄和平均收藏数比\n",
    "        account_age = get_account_age(creation_date)\n",
    "        avg_fav = get_avg_fav(favorites_count, statuses_count)\n",
    "\n",
    "        account_ages_favs.append({\n",
    "            'user_id': user_data['_id'],\n",
    "            'account_age': account_age,\n",
    "            'avg_fav': avg_fav\n",
    "        })\n",
    "    \n",
    "    return account_ages_favs\n",
    "\n"
   ]
  },
  {
   "cell_type": "markdown",
   "metadata": {},
   "source": [
    "11. `group_popularity`: Calculer la popularité d'un utilisateur dans un groupe"
   ]
  },
  {
   "cell_type": "code",
   "execution_count": 36,
   "metadata": {},
   "outputs": [],
   "source": [
    "def calc_group_popularity(data):\n",
    "    total_groups = 0\n",
    "    temp_list = []  # 用于临时存储每个用户的listed_count和user_id\n",
    "\n",
    "    # 收集所有用户的listed_count，并找出最大值\n",
    "    for user in data:\n",
    "        listed_count = user['tweets'][0]['user']['listed_count']\n",
    "        user_id = user['_id']\n",
    "        total_groups = max(total_groups, listed_count)\n",
    "        temp_list.append((user_id, listed_count))\n",
    "    \n",
    "    # 初始化最终列表\n",
    "    group_popularity_list = []\n",
    "    \n",
    "    # 计算每个用户的组受欢迎程度\n",
    "    for user_id, listed_count in temp_list:\n",
    "        if total_groups > 0:\n",
    "            group_popularity = listed_count / total_groups\n",
    "        else:\n",
    "            group_popularity = 0\n",
    "        # 将结果以字典形式添加到最终列表\n",
    "        group_popularity_list.append({\n",
    "            'user_id': user_id,\n",
    "            'group_popularity': group_popularity,\n",
    "        })\n",
    "    \n",
    "    return group_popularity_list\n"
   ]
  },
  {
   "cell_type": "markdown",
   "metadata": {},
   "source": [
    "12. `mentions_freq`: Fréquence moyenne des utilisateurs mentionnant d'autres utilisateurs dans leurs tweets"
   ]
  },
  {
   "cell_type": "code",
   "execution_count": 38,
   "metadata": {},
   "outputs": [],
   "source": [
    "def calc_mentions_freq(data):\n",
    "    mentions_freq_list = []\n",
    "    for user in data:\n",
    "        tweets = user['tweets']\n",
    "        total_mentions = sum(len(tweet['entities']['user_mentions']) for tweet in tweets)\n",
    "        total_tweets = len(tweets)\n",
    "        mentions_freq = total_mentions / total_tweets if total_tweets > 0 else 0\n",
    "        mentions_freq_list.append({\n",
    "            'user_id': user['_id'],\n",
    "            'mentions_freq': mentions_freq\n",
    "        })\n",
    "    return mentions_freq_list"
   ]
  },
  {
   "cell_type": "markdown",
   "metadata": {},
   "source": [
    "Calculer toutes les données et les écrire au format csv."
   ]
  },
  {
   "cell_type": "code",
   "execution_count": 39,
   "metadata": {},
   "outputs": [
    {
     "name": "stdout",
     "output_type": "stream",
     "text": [
      "Data has been successfully written to 'user_twitter_data.csv'.\n"
     ]
    }
   ],
   "source": [
    "import json\n",
    "import csv\n",
    "\n",
    "# 加载数据\n",
    "with open('output.json', 'r', encoding='utf-8') as file:\n",
    "    data = json.load(file)\n",
    "\n",
    "aggressiveness_scores = calculate_aggressiveness(data)\n",
    "averages_scores = calculate_averages(data)\n",
    "ratio_followers_friend = calc_ration_followers_friends(data)\n",
    "avg_tweet_length = calc_avg_tweet_length(data)\n",
    "rate_replied = calc_rate_replied(data)\n",
    "tweet_frequency = calc_tweet_frequency_per_day(data)\n",
    "visibility_et_verified = visibility_et_verified_check(data)\n",
    "age_fav_ratio = account_age_fav_ratio(data)\n",
    "group_popularity = calc_group_popularity(data)\n",
    "mentions_freq = calc_mentions_freq(data)\n",
    "\n",
    "combined_list = [{**a, **b, **c, **d, **e, **f, **g, **h, **i, **j} for a, b, c, d, e, f, g, h, i, j in zip(aggressiveness_scores, averages_scores, ratio_followers_friend, avg_tweet_length, rate_replied, tweet_frequency, visibility_et_verified, age_fav_ratio, group_popularity, mentions_freq)]\n",
    "\n",
    "# 打开一个新的CSV文件并准备写入数据\n",
    "with open('user_twitter_data.csv', 'w', newline='', encoding='utf-8') as file:\n",
    "    fieldnames = ['user_id', 'aggressiveness_score', 'avg_retweet', 'avg_url', 'avg_hashtag', 'ratio_followers_friend', 'avg_tweet_length', 'repliedrate_replied', 'tweet_frequency', 'verified', 'visibility', 'account_age', 'avg_fav', 'group_popularity', 'mentions_freq']\n",
    "    writer = csv.DictWriter(file, fieldnames=fieldnames)\n",
    "    writer.writeheader()  # 写入表头\n",
    "\n",
    "    for user in combined_list:\n",
    "        row = {\n",
    "            'user_id': user['user_id'],\n",
    "            'aggressiveness_score': user['aggressiveness_score'],\n",
    "            'avg_retweet': user['avg_retweet'],\n",
    "            'avg_url': user['avg_url'],\n",
    "            'avg_hashtag': user['avg_hashtag'],\n",
    "            'ratio_followers_friend': user['ratio'],\n",
    "            'avg_tweet_length': user['avg_tweet_length'],\n",
    "            'repliedrate_replied': user['replied_rate'],\n",
    "            'tweet_frequency': user['frequency'],\n",
    "            'verified': user['verification'],\n",
    "            'visibility': user['visibility'],\n",
    "            'account_age': user['account_age'],\n",
    "            'avg_fav': user['avg_fav'],\n",
    "            'group_popularity': user['group_popularity'],\n",
    "            'mentions_freq': user['mentions_freq']\n",
    "        }\n",
    "        writer.writerow(row)  # 写入一行数据\n",
    "\n",
    "print(\"Data has been successfully written to 'user_twitter_data.csv'.\")\n",
    "\n"
   ]
  }
 ],
 "metadata": {
  "kernelspec": {
   "display_name": "Python 3",
   "language": "python",
   "name": "python3"
  },
  "language_info": {
   "codemirror_mode": {
    "name": "ipython",
    "version": 3
   },
   "file_extension": ".py",
   "mimetype": "text/x-python",
   "name": "python",
   "nbconvert_exporter": "python",
   "pygments_lexer": "ipython3",
   "version": "3.10.11"
  }
 },
 "nbformat": 4,
 "nbformat_minor": 2
}
