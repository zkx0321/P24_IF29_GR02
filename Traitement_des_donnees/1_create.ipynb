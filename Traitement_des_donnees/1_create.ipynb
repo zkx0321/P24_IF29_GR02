{
 "cells": [
  {
   "cell_type": "code",
   "execution_count": 1,
   "id": "b8725d70",
   "metadata": {},
   "outputs": [
    {
     "data": {
      "text/plain": [
       "'\\nCreate database from Tweet Worldcup 200Twets on moodle\\nOnly modify the commented lines\\n'"
      ]
     },
     "execution_count": 1,
     "metadata": {},
     "output_type": "execute_result"
    }
   ],
   "source": [
    "from pymongo import MongoClient\n",
    "import os\n",
    "import json"
   ]
  },
  {
   "cell_type": "code",
   "execution_count": 2,
   "id": "157d9ca3",
   "metadata": {},
   "outputs": [],
   "source": [
    "client = MongoClient('localhost', 27017)"
   ]
  },
  {
   "cell_type": "code",
   "execution_count": 3,
   "id": "6669ca32",
   "metadata": {},
   "outputs": [],
   "source": [
    "db = client['IF29'] #database name"
   ]
  },
  {
   "cell_type": "code",
   "execution_count": 4,
   "id": "3b6d5b7c",
   "metadata": {},
   "outputs": [],
   "source": [
    "collection = db['tweets'] #collection name"
   ]
  },
  {
   "cell_type": "code",
   "execution_count": 7,
   "id": "4a97718b",
   "metadata": {},
   "outputs": [],
   "source": [
    "parent_dir = (\"data/\") #dir of the dataset\n",
    "list_filename = os.listdir(parent_dir)"
   ]
  },
  {
   "cell_type": "code",
   "execution_count": 8,
   "id": "e206e6f9",
   "metadata": {},
   "outputs": [],
   "source": [
    "for filename in list_filename:\n",
    "    filepath = parent_dir + filename\n",
    "    with open(filepath, encoding='utf-8') as f:\n",
    "        lines = f.readlines()\n",
    "        f.close()\n",
    "    for line in lines:\n",
    "        document = json.loads(line[:-1])\n",
    "        collection.insert_one(document)"
   ]
  }
 ],
 "metadata": {
  "kernelspec": {
   "display_name": "Python 3 (ipykernel)",
   "language": "python",
   "name": "python3"
  },
  "language_info": {
   "codemirror_mode": {
    "name": "ipython",
    "version": 3
   },
   "file_extension": ".py",
   "mimetype": "text/x-python",
   "name": "python",
   "nbconvert_exporter": "python",
   "pygments_lexer": "ipython3",
   "version": "3.9.13"
  }
 },
 "nbformat": 4,
 "nbformat_minor": 5
}
