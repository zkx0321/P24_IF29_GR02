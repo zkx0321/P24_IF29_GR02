{
 "cells": [
  {
   "cell_type": "code",
   "execution_count": 1,
   "metadata": {},
   "outputs": [],
   "source": [
    "import pandas as pd\n",
    "\n",
    "def find_high_outlier_threshold_iqr(data, column):\n",
    "    \"\"\"\n",
    "    Méthode de l'écart interquartile (IQR)\n",
    "    Seuils de détection des valeurs aberrantes dans les colonnes de données à l'aide de la méthode IQR.\n",
    "    \"\"\"\n",
    "    Q1 = data[column].quantile(0.25)\n",
    "    Q3 = data[column].quantile(0.75)\n",
    "    IQR = Q3 - Q1\n",
    "    upper_bound = Q3 + 1.5 * IQR\n",
    "\n",
    "    return upper_bound\n",
    "\n",
    "\n",
    "def find_outlier_thresholds_iqr(data, column):\n",
    "    \"\"\"\n",
    "    Thresholds for outliers at the low and high ends of the data columns were calculated using the IQR method.\n",
    "    \"\"\"\n",
    "    Q1 = data[column].quantile(0.25)\n",
    "    Q3 = data[column].quantile(0.75)\n",
    "    IQR = Q3 - Q1\n",
    "    lower_bound = Q1 - 1.5 * IQR\n",
    "    upper_bound = Q3 + 1.5 * IQR\n",
    "\n",
    "    return lower_bound, upper_bound\n",
    "\n",
    "\n",
    "def find_outlier_threshold_percentile(data, column, percentile):\n",
    "    \"\"\"\n",
    "    Les seuils de valeurs aberrantes dans les colonnes de données ont été calculés à l'aide de la méthode des percentiles.\n",
    "    \"\"\"\n",
    "    lower_bound = data[column].quantile(percentile / 100.0)\n",
    "\n",
    "    return lower_bound"
   ]
  },
  {
   "cell_type": "code",
   "execution_count": null,
   "metadata": {},
   "outputs": [],
   "source": [
    "data = pd.read_csv('user_twitter_data_complet.csv')\n",
    "print(len(data))\n",
    "threshold_aggressiveness = find_high_outlier_threshold_iqr(data,'aggressiveness_score')\n",
    "threshold_url = find_high_outlier_threshold_iqr(data,'avg_url')\n",
    "threshold_hashtag = find_high_outlier_threshold_iqr(data,'avg_hashtag')\n",
    "threshold_ratio_followers_friend = find_outlier_threshold_percentile(data,'ratio_followers_friend',5)\n",
    "threshold_tweet_length_low, threshold_tweet_length_high = find_outlier_thresholds_iqr(data,'avg_tweet_length')\n",
    "threshold_tweet_frequency = find_outlier_threshold_percentile(data,'tweet_frequency',95)\n",
    "threshold_visibility = find_high_outlier_threshold_iqr(data,'visibility')\n",
    "threshold_account_age = find_outlier_threshold_percentile(data,'account_age',5)\n",
    "threshold_favorite_rate = find_outlier_threshold_percentile(data,'avg_fav',5)\n",
    "threshold_group_popularity = find_high_outlier_threshold_iqr(data,'group_popularity')\n",
    "threshold_mentions_freq = find_high_outlier_threshold_iqr(data,'mentions_freq')"
   ]
  },
  {
   "cell_type": "code",
   "execution_count": 6,
   "metadata": {},
   "outputs": [],
   "source": [
    "def label_users():\n",
    "    labels = []\n",
    "    for _, row in data.iterrows():\n",
    "        suspect_index = 0\n",
    "        if row['verified'] == True:\n",
    "            labels.append(0)\n",
    "            continue\n",
    "        if row['aggressiveness_score'] > threshold_aggressiveness:\n",
    "            suspect_index += 1\n",
    "        if row['avg_url'] > threshold_url:\n",
    "            suspect_index += 1\n",
    "        if row['avg_hashtag'] > threshold_hashtag:\n",
    "            suspect_index += 1\n",
    "        if row['ratio_followers_friend'] < threshold_ratio_followers_friend:\n",
    "            suspect_index += 1\n",
    "        if row['avg_tweet_length'] < threshold_tweet_length_low or row['avg_tweet_length'] > threshold_tweet_length_high:\n",
    "            suspect_index += 1\n",
    "        if row['tweet_frequency'] > threshold_tweet_frequency:\n",
    "            suspect_index += 1\n",
    "        if row['visibility'] > threshold_visibility:\n",
    "            suspect_index += 1\n",
    "        if row['account_age'] < threshold_favorite_rate:\n",
    "            suspect_index += 1\n",
    "        if row['avg_fav'] < threshold_favorite_rate:\n",
    "            suspect_index += 1\n",
    "        if row['group_popularity'] > threshold_group_popularity:\n",
    "            suspect_index += 1\n",
    "        if row['mentions_freq'] > threshold_mentions_freq:\n",
    "            suspect_index += 1\n",
    "        if suspect_index >= 5:\n",
    "            labels.append(1)\n",
    "        else:\n",
    "            labels.append(0)\n",
    "    return labels\n"
   ]
  },
  {
   "cell_type": "code",
   "execution_count": null,
   "metadata": {},
   "outputs": [],
   "source": [
    "labels = label_users()\n",
    "\n",
    "data[\"label\"] = labels\n",
    "data.to_csv(\"data_labeled_complet.csv\", index=False)"
   ]
  },
  {
   "cell_type": "markdown",
   "metadata": {},
   "source": []
  }
 ],
 "metadata": {
  "kernelspec": {
   "display_name": "Python 3",
   "language": "python",
   "name": "python3"
  },
  "language_info": {
   "codemirror_mode": {
    "name": "ipython",
    "version": 3
   },
   "file_extension": ".py",
   "mimetype": "text/x-python",
   "name": "python",
   "nbconvert_exporter": "python",
   "pygments_lexer": "ipython3",
   "version": "3.10.11"
  }
 },
 "nbformat": 4,
 "nbformat_minor": 2
}
