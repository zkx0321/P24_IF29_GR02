{
 "cells": [
  {
   "cell_type": "markdown",
   "metadata": {},
   "source": [
    "#### Importation et lecture de données de training set\n",
    "- Attribuer les colonnes **1 à 12** (caractéristiques) des données à `X`.\n",
    "- Affecter la colonne **13** des données (étiquettes) à `Y`."
   ]
  },
  {
   "cell_type": "code",
   "execution_count": 1,
   "metadata": {},
   "outputs": [],
   "source": [
    "import pandas as pd\n",
    "data = pd.read_csv('dataset/data_with_labels_train_std.csv')\n",
    "X = data.iloc[:, 1:13]\n",
    "Y = data.iloc[:, 13]"
   ]
  },
  {
   "cell_type": "markdown",
   "metadata": {},
   "source": [
    "#### Réduction de la dimensionnalité avec l'algorithme ACP"
   ]
  },
  {
   "cell_type": "code",
   "execution_count": 2,
   "metadata": {},
   "outputs": [],
   "source": [
    "from sklearn.decomposition import PCA\n",
    "pca=PCA(n_components=11)\n",
    "X_pca = pca.fit_transform(X)"
   ]
  },
  {
   "cell_type": "markdown",
   "metadata": {},
   "source": [
    "#### Importation et lecture de données de predict set"
   ]
  },
  {
   "cell_type": "code",
   "execution_count": 3,
   "metadata": {},
   "outputs": [],
   "source": [
    "data_pre = pd.read_csv('dataset/data_with_labels_predict_std.csv')\n",
    "xx = data_pre.iloc[:, 1:13]\n",
    "yy = data_pre.iloc[:, 13]\n",
    "xx_pca = pca.transform(xx)"
   ]
  },
  {
   "cell_type": "markdown",
   "metadata": {},
   "source": [
    "#### Optimisation des paramètres\n",
    "Les hyperparamètres de la SVM (SVC) ont été optimisés à l'aide de l'optimisation bayésienne `BayesSearchCV` et entraînés sur un ensemble d'entraînement, puis la précision du modèle a été évaluée sur un ensemble de test."
   ]
  },
  {
   "cell_type": "code",
   "execution_count": 6,
   "metadata": {},
   "outputs": [
    {
     "name": "stdout",
     "output_type": "stream",
     "text": [
      "Time taken for parameter search: 66.54 seconds\n",
      "best params: OrderedDict([('C', 49.3348292704967), ('gamma', 0.012616347874517259), ('kernel', 'rbf')])\n",
      "Test set accuracy: 1.00\n"
     ]
    }
   ],
   "source": [
    "import time\n",
    "from skopt import BayesSearchCV\n",
    "from sklearn.svm import SVC\n",
    "from sklearn.model_selection import train_test_split\n",
    "from sklearn.metrics import accuracy_score\n",
    "\n",
    "X_train, X_test, Y_train, Y_test = train_test_split(X, Y, test_size=0.2, random_state=42)\n",
    "\n",
    "opt = BayesSearchCV(\n",
    "    SVC(decision_function_shape='ovr', probability=True, max_iter=-1, random_state=42),\n",
    "    {\n",
    "        'C': (1, 1e+2, 'log-uniform'),\n",
    "        'gamma': (1e-2, 1, 'log-uniform'),\n",
    "        'kernel': ['rbf']\n",
    "    },\n",
    "    n_iter=15,\n",
    "    cv=3,\n",
    "    n_jobs=7\n",
    ")\n",
    "\n",
    "start_time = time.time()\n",
    "\n",
    "opt.fit(X_train, Y_train)\n",
    "\n",
    "end_time = time.time()\n",
    "print(f\"Time taken for parameter search: {end_time - start_time:.2f} seconds\")\n",
    "\n",
    "print(\"best params: %s\" % str(opt.best_params_))\n",
    "\n",
    "best_model = opt.best_estimator_\n",
    "Y_pred = best_model.predict(X_test)\n",
    "accuracy = accuracy_score(Y_test, Y_pred)\n",
    "\n",
    "print(f\"Test set accuracy: {accuracy}\")"
   ]
  },
  {
   "cell_type": "markdown",
   "metadata": {},
   "source": [
    "#### Entraîner le modèle SVM et prédire"
   ]
  },
  {
   "cell_type": "code",
   "execution_count": 7,
   "metadata": {},
   "outputs": [
    {
     "name": "stdout",
     "output_type": "stream",
     "text": [
      "Accuracy: 0.9989963396243889\n"
     ]
    }
   ],
   "source": [
    "from sklearn.metrics import accuracy_score\n",
    "pred = best_model.predict(xx)\n",
    "score = accuracy_score(yy, pred)\n",
    "print(f\"Accuracy: {score}\")"
   ]
  },
  {
   "cell_type": "markdown",
   "metadata": {},
   "source": [
    "#### Calculer les matrices de confusion"
   ]
  },
  {
   "cell_type": "code",
   "execution_count": 8,
   "metadata": {},
   "outputs": [
    {
     "name": "stdout",
     "output_type": "stream",
     "text": [
      "[[1769243    1251]\n",
      " [    548   21397]]\n"
     ]
    }
   ],
   "source": [
    "from sklearn.metrics import confusion_matrix\n",
    "conf_matrix = confusion_matrix(yy, pred)\n",
    "print(conf_matrix)"
   ]
  },
  {
   "cell_type": "markdown",
   "metadata": {},
   "source": [
    "#### Matrice de confusion visuelle"
   ]
  },
  {
   "cell_type": "code",
   "execution_count": 9,
   "metadata": {},
   "outputs": [
    {
     "data": {
      "image/png": "[encoded data removed]",
      "text/plain": [
       "<Figure size 640x480 with 1 Axes>"
      ]
     },
     "metadata": {},
     "output_type": "display_data"
    }
   ],
   "source": [
    "import seaborn as sns\n",
    "import matplotlib.pyplot as plt\n",
    "plt.figure(\"Confusion matrix\")\n",
    "sns.heatmap(conf_matrix, square=True, annot=True, cbar=False, xticklabels=[\"non suspect\", \"suspect\"], yticklabels=[\"non suspect\", \"suspect\"], cmap=\"Blues\", fmt='d')\n",
    "plt.xlabel('predicted labels')\n",
    "plt.ylabel('true labels')\n",
    "plt.title(\"Matrice de confusion\")\n",
    "plt.show()"
   ]
  }
 ],
 "metadata": {
  "kernelspec": {
   "display_name": "Python 3",
   "language": "python",
   "name": "python3"
  },
  "language_info": {
   "codemirror_mode": {
    "name": "ipython",
    "version": 3
   },
   "file_extension": ".py",
   "mimetype": "text/x-python",
   "name": "python",
   "nbconvert_exporter": "python",
   "pygments_lexer": "ipython3",
   "version": "3.10.11"
  }
 },
 "nbformat": 4,
 "nbformat_minor": 2
}
